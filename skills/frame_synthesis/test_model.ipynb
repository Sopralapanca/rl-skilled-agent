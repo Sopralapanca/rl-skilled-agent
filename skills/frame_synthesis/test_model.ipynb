{
 "cells": [
  {
   "cell_type": "code",
   "execution_count": 1,
   "metadata": {},
   "source": [
    "import torch\n",
    "import matplotlib.pyplot as plt\n",
    "import numpy as np\n",
    "from model import VoxelFlow\n",
    "from dataset import Dataset\n",
    "from torch.utils.data import DataLoader"
   ],
   "outputs": []
  },
  {
   "cell_type": "code",
   "execution_count": 2,
   "metadata": {},
   "source": [
    "models_path = {\n",
    "    \"pong#1\" : \"wandb/run-20220708_002006-1jms7ynh/files/PongNoFrameskip-v4.pt\"\n",
    "}"
   ],
   "outputs": []
  },
  {
   "cell_type": "code",
   "execution_count": 3,
   "metadata": {},
   "source": [
    "ENV = \"PongNoFrameskip-v4\" # \"MsPacmanNoFrameskip-v4\"\n",
    "data_path = f\"data/{ENV}\"\n",
    "NUM_EPS = 61\n",
    "MAX_EP_LEN = 100\n",
    "\n",
    "model = VoxelFlow()\n",
    "model_path = models_path[\"pong#1\"]\n",
    "model.load_state_dict(torch.load(model_path, map_location='cuda:2'))\n",
    "model.eval(); #; suppress output"
   ],
   "outputs": []
  },
  {
   "cell_type": "code",
   "execution_count": 4,
   "metadata": {},
   "source": [
    "dataset = Dataset(data_path, range(NUM_EPS), MAX_EP_LEN)\n",
    "loader = DataLoader(dataset, 16, shuffle=True)"
   ],
   "outputs": []
  },
  {
   "cell_type": "code",
   "execution_count": 9,
   "metadata": {},
   "source": [
    "with torch.no_grad():\n",
    "    for inp, target in loader:\n",
    "        break\n",
    "\n",
    "    # inp[:,3:,:,:] = inp[:,:3,:,:]\n",
    "\n",
    "    import time\n",
    "    s = time.time()\n",
    "    out = model(inp)\n",
    "    print(\"inf time:\", time.time()-s)\n",
    "    x1 = inp[:, :3, :, :]\n",
    "    x2 = inp[:, 3:, :, :]"
   ],
   "outputs": []
  },
  {
   "cell_type": "code",
   "execution_count": 10,
   "metadata": {},
   "source": [
    "fig, ax = plt.subplots(1, 5, figsize=(15, 15))\n",
    "idx = 15\n",
    "\n",
    "ax[0].imshow(x1[idx].permute([1, 2, 0]).detach().numpy(), cmap='gray')\n",
    "ax[0].set_xlabel(\"frame#1\")\n",
    "ax[1].imshow(x2[idx].permute([1, 2, 0]).detach().numpy())\n",
    "ax[1].set_xlabel(\"frame#2\")\n",
    "ax[2].imshow(out[idx].permute([1, 2, 0]).detach().numpy())\n",
    "ax[2].set_xlabel(\"prediction\")\n",
    "ax[3].imshow(target[idx].permute([1, 2, 0]).detach().numpy())\n",
    "ax[3].set_xlabel(\"frame#3\")\n",
    "ax[4].imshow((out[idx]-target[idx]).permute([1, 2, 0]).detach().numpy())\n",
    "ax[4].set_xlabel(\"diff\");"
   ],
   "outputs": []
  }
 ],
 "metadata": {
  "kernelspec": {
   "display_name": "Python 3.6.8 ('th-env': venv)",
   "language": "python",
   "name": "python3"
  },
  "language_info": {
   "codemirror_mode": {
    "name": "ipython",
    "version": 3
   },
   "file_extension": ".py",
   "mimetype": "text/x-python",
   "name": "python",
   "nbconvert_exporter": "python",
   "pygments_lexer": "ipython3",
   "version": "3.6.8"
  },
  "orig_nbformat": 4,
  "vscode": {
   "interpreter": {
    "hash": "ef1f23e87c633f15419cdb96f18d05f28a97e2509a11a68a5bf36e61c58f2c0b"
   }
  }
 },
 "nbformat": 4,
 "nbformat_minor": 2
}
